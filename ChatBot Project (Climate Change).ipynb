{
  "nbformat": 4,
  "nbformat_minor": 0,
  "metadata": {
    "colab": {
      "provenance": [],
      "authorship_tag": "ABX9TyNUxry/5gBgTYWiHdJydJqW",
      "include_colab_link": true
    },
    "kernelspec": {
      "name": "python3",
      "display_name": "Python 3"
    },
    "language_info": {
      "name": "python"
    }
  },
  "cells": [
    {
      "cell_type": "markdown",
      "metadata": {
        "id": "view-in-github",
        "colab_type": "text"
      },
      "source": [
        "<a href=\"https://colab.research.google.com/github/almanmirza/Machine-Learning-Project/blob/main/ChatBot%20Project%20(Climate%20Change).ipynb\" target=\"_parent\"><img src=\"https://colab.research.google.com/assets/colab-badge.svg\" alt=\"Open In Colab\"/></a>"
      ]
    },
    {
      "cell_type": "code",
      "execution_count": 4,
      "metadata": {
        "colab": {
          "base_uri": "https://localhost:8080/"
        },
        "id": "IUpy8LzGis0g",
        "outputId": "61dd7c81-b540-4593-96bb-63d0a0829525"
      },
      "outputs": [
        {
          "output_type": "stream",
          "name": "stdout",
          "text": [
            "Chatbot response: Evidence for a warming world comes from multiple independent climate indicators, from high up in the atmosphere\n",
            "to the depths of the oceans. They include changes in surface, atmospheric and oceanic temperatures; glaciers; snow\n",
            "cover; sea ice; sea level and atmospheric water vapour. Scientists from all over the world have independently verified this evidence many times. That the world has warmed since the 19th century is unequivocal.\n",
            "Discussion about climate warming often centres on potential residual biases in temperature records from landbased weather stations. These records are very important, but they only represent one indicator of changes in the\n",
            "climate system. Broader evidence for a warming world comes from a wide range of independent physically consistent measurements of many other, strongly interlinked, elements of the climate system .\n",
            "A rise in global average surface temperatures is the best-known indicator of climate change. Although each year and\n",
            "even decade is not always warmer than the last, global surface temperatures have warmed substantially since 1900.\n",
            "Warming land temperatures correspond closely with the observed warming trend over the oceans. Warming oceanic air temperatures, measured from aboard ships, and temperatures of the sea surface itself also coincide, as\n",
            "borne out by many independent analyses.\n",
            "The atmosphere and ocean are both fluid bodies, so warming at the surface should also be seen in the lower atmosphere, and deeper down into the upper oceans, and observations confirm that this is indeed the case. Analyses of\n",
            "measurements made by weather balloon radiosondes and satellites consistently show warming of the troposphere,\n",
            "the active weather layer of the atmosphere. More than 90% of the excess energy absorbed by the climate system\n",
            "since at least the 1970s has been stored in the oceans as can be seen from global records of ocean heat content\n",
            "going back to the 1950s. As the oceans warm, the water itself expands. This expansion is one of the main drivers of the independently\n",
            "observed rise in sea levels over the past century. Melting of glaciers and ice sheets also contribute, as do changes in\n",
            "storage and usage of water on land.\n",
            "A warmer world is also a moister one, because warmer air can hold more water vapour. Global analyses show that\n",
            "specific humidity, which measures the amount of water vapour in the atmosphere, has increased over both the land\n",
            "and the oceans.\n",
            "The frozen parts of the planet—known collectively as the cryosphere—affect, and are affected by, local changes\n",
            "in temperature. The amount of ice contained in glaciers globally has been declining every year for more than 20\n",
            "years, and the lost mass contributes, in part, to the observed rise in sea level. Snow cover is sensitive to changes in\n",
            "temperature, particularly during the spring, when snow starts to melt. Spring snow cover has shrunk across the NH\n",
            "since the 1950s. Substantial losses in Arctic sea ice have been observed since satellite records began, particularly at\n",
            "the time of the mimimum extent, which occurs in September at the end of the annual melt season. By contrast, the\n",
            "increase in Antarctic sea ice has been smaller.\n",
            "Individually, any single analysis might be unconvincing, but analysis of these different indicators and independent\n",
            "data sets has led many independent research groups to all reach the same conclusion. From the deep oceans to the\n",
            "top of the troposphere, the evidence of warmer air and oceans, of melting ice and rising seas all points unequivocally to one thing: the world has warmed since the late 19th century. \n"
          ]
        }
      ],
      "source": [
        "import pandas as pd\n",
        "from sklearn.feature_extraction.text import TfidfVectorizer\n",
        "from sklearn.metrics.pairwise import cosine_similarity\n",
        "import spacy\n",
        "\n",
        "# Load SpaCy model for preprocessing\n",
        "nlp = spacy.load('en_core_web_sm')\n",
        "\n",
        "# Load your dataset (adjust the path as needed)\n",
        "faq_data = pd.read_csv('climate_change_faqs.csv')\n",
        "\n",
        "# Separate questions and answers\n",
        "questions = faq_data[faq_data['text_type'] == 'q']['faq'].tolist()\n",
        "answers = faq_data[faq_data['text_type'] == 'a']['faq'].tolist()\n",
        "\n",
        "# Preprocessing function to clean text\n",
        "def preprocess(text):\n",
        "    \"\"\"Preprocess input text by removing stopwords, punctuation, and lemmatizing.\"\"\"\n",
        "    doc = nlp(text.lower())  # Convert to lowercase and tokenize\n",
        "    return ' '.join([token.lemma_ for token in doc if not token.is_stop and not token.is_punct])\n",
        "\n",
        "# Apply preprocessing to all the FAQ questions\n",
        "preprocessed_questions = [preprocess(q) for q in questions]\n",
        "\n",
        "# Vectorize the preprocessed questions using TF-IDF\n",
        "vectorizer = TfidfVectorizer()\n",
        "question_vectors = vectorizer.fit_transform(preprocessed_questions)\n",
        "\n",
        "# Function to get the most relevant FAQ response\n",
        "def get_faq_response(user_query):\n",
        "    # Preprocess the user query\n",
        "    preprocessed_query = preprocess(user_query)\n",
        "\n",
        "    # Vectorize the user query\n",
        "    user_query_vector = vectorizer.transform([preprocessed_query])\n",
        "\n",
        "    # Calculate cosine similarity between the user query and FAQ questions\n",
        "    similarities = cosine_similarity(user_query_vector, question_vectors)\n",
        "\n",
        "    # Find the index of the most similar question\n",
        "    max_sim_index = similarities.argmax()\n",
        "\n",
        "    # Return the corresponding answer\n",
        "    return answers[max_sim_index]\n",
        "\n",
        "# Example usage\n",
        "example_query = \"How do we know that the climate is changing?\"\n",
        "response = get_faq_response(example_query)\n",
        "print(\"Chatbot response:\", response)\n"
      ]
    }
  ]
}